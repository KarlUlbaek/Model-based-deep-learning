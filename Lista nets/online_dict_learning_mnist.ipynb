{
 "cells": [
  {
   "cell_type": "code",
   "execution_count": 1,
   "id": "initial_id",
   "metadata": {
    "collapsed": true,
    "ExecuteTime": {
     "end_time": "2023-10-17T07:40:26.181214500Z",
     "start_time": "2023-10-17T07:40:23.811186100Z"
    }
   },
   "outputs": [],
   "source": [
    "import torch\n",
    "import torch as t\n",
    "import numpy as np\n",
    "import matplotlib.pyplot as plt\n",
    "import tqdm"
   ]
  },
  {
   "cell_type": "code",
   "execution_count": 2,
   "outputs": [
    {
     "name": "stdout",
     "output_type": "stream",
     "text": [
      "mnist_train was loaded\n",
      "running on CPU but cuda is available.\n"
     ]
    }
   ],
   "source": [
    "from custom_data_loader import *\n",
    "split = \"train\"\n",
    "name = \"mnist\"\n",
    "batch_size = 64\n",
    "\n",
    "train_set = custom_data_loader(split_name=split, name=name, batch_size=batch_size)"
   ],
   "metadata": {
    "collapsed": false,
    "ExecuteTime": {
     "end_time": "2023-10-17T07:40:26.272731900Z",
     "start_time": "2023-10-17T07:40:26.181214500Z"
    }
   },
   "id": "3f9eae0ddde1f78d"
  },
  {
   "cell_type": "code",
   "execution_count": 3,
   "outputs": [
    {
     "data": {
      "text/plain": "<matplotlib.image.AxesImage at 0x1cb23c6ab90>"
     },
     "execution_count": 3,
     "metadata": {},
     "output_type": "execute_result"
    },
    {
     "data": {
      "text/plain": "<Figure size 640x480 with 1 Axes>",
      "image/png": "[encoded data removed]"
     },
     "metadata": {},
     "output_type": "display_data"
    }
   ],
   "source": [
    "x = train_set.x\n",
    "x = x.squeeze()\n",
    "x = t.reshape(x,  x.shape[:1] + tuple([-1])).numpy()\n",
    "plt.imshow(x[0,:].reshape(28,28), cmap='gray')#, vmin=0, vmax=1)"
   ],
   "metadata": {
    "collapsed": false,
    "ExecuteTime": {
     "end_time": "2023-10-17T07:40:26.480896800Z",
     "start_time": "2023-10-17T07:40:26.272731900Z"
    }
   },
   "id": "b8e0cd675e4b08bf"
  },
  {
   "cell_type": "code",
   "execution_count": 4,
   "outputs": [
    {
     "name": "stdout",
     "output_type": "stream",
     "text": [
      "(60000, 784)\n",
      "60000\n",
      "min and max -0.5 0.5\n"
     ]
    }
   ],
   "source": [
    "# working but gives very poor results\n",
    "def zca_whitening(x, eps = 0.001):\n",
    "\n",
    "    sigma = np.cov(x, rowvar=False)\n",
    "    U,S,V = np.linalg.svd(sigma)\n",
    "    ZCAMatrix = U @ np.diag(1.0/np.sqrt(S + eps)) @ U.T\n",
    "    return ZCAMatrix\n",
    "\n",
    "#train_set = custom_data_loader(split_name=split, name=name, batch_size=batch_size)\n",
    "train_set.x = train_set.x.squeeze()\n",
    "train_set.x = t.reshape( train_set.x,   train_set.x.shape[:1] + tuple([-1])).numpy().astype(np.float64) -0.5\n",
    "\n",
    "print(train_set.x.shape)\n",
    "print(len(train_set))\n",
    "print(\"min and max\", train_set.x.min(), train_set.x.max())\n"
   ],
   "metadata": {
    "collapsed": false,
    "ExecuteTime": {
     "end_time": "2023-10-17T07:40:26.828475Z",
     "start_time": "2023-10-17T07:40:26.571213Z"
    }
   },
   "id": "aeb18afbd83c2220"
  },
  {
   "cell_type": "code",
   "execution_count": 5,
   "outputs": [],
   "source": [
    "    \n",
    "def plot_(diff, err):\n",
    "    fig = plt.figure(figsize=(10,5))\n",
    "    fig.add_subplot(1, 2, 1)\n",
    "    plt.plot(diff)\n",
    "    plt.yscale(\"log\")\n",
    "    plt.title(\"l2 change of z (sparse code)\")\n",
    "    \n",
    "    fig.add_subplot(1, 2, 2)\n",
    "    plt.plot(err)\n",
    "    plt.yscale(\"log\")\n",
    "    plt.title(\"l2 err\")\n",
    "    plt.show()\n",
    "    return \n",
    "\n",
    "\n"
   ],
   "metadata": {
    "collapsed": false,
    "ExecuteTime": {
     "end_time": "2023-10-17T07:40:26.880984700Z",
     "start_time": "2023-10-17T07:40:26.831008900Z"
    }
   },
   "id": "36b0e53c17ae6bd3"
  },
  {
   "cell_type": "code",
   "execution_count": 6,
   "outputs": [],
   "source": [
    "def plot_W_and_reconst(W, sparse_codes, x_batch, num_plots = 5, seed=None):\n",
    "    np.random.seed(seed)\n",
    "    W_n, W_m = W.shape\n",
    "    res = int(np.sqrt(W_n))\n",
    "    assert res**2 == W_n\n",
    "    f, ax = plt.subplots(num_plots, num_plots+1 )\n",
    "    f.set_figheight(15)\n",
    "    f.set_figwidth(15)\n",
    "    plt.tight_layout()\n",
    "    for ax1 in range(num_plots):\n",
    "        for ax2 in range(num_plots):\n",
    "            rand_int = np.random.randint(0,W_m-1)\n",
    "            ax[ax1, ax2].imshow(W[:,rand_int].reshape(res,res), cmap='gray', vmin=-0.5, vmax=0.5)\n",
    "            ax[ax1, ax2].set_title(\"W col \"+str(rand_int))\n",
    "            ax[ax1, ax2].axis('off')\n",
    "\n",
    "    if x_batch.ndim == 1:\n",
    "        x = x_batch\n",
    "    else:\n",
    "        x = x_batch[0,:]\n",
    "    ax[0, -1].imshow(x.reshape(28,28), cmap='gray')\n",
    "    ax[0, -1].set_title(\"some true x\")\n",
    "    ax[1, -1].imshow((W@sparse_codes[0,:]).reshape(28,28), cmap='gray')\n",
    "    ax[1, -1].set_title(\"x reconstruc\")\n",
    "    \n",
    "    if x_batch.ndim > 1:\n",
    "        ax[2, -1].imshow(x_batch[1,:].reshape(28,28), cmap='gray')\n",
    "        ax[2, -1].set_title(\"some true x\")\n",
    "        ax[3, -1].imshow((W@sparse_codes[1,:]).reshape(28,28), cmap='gray')\n",
    "        ax[3, -1].set_title(\"x reconstruc\")\n",
    "        \n",
    "    ax[0, -1].axis('off')\n",
    "    ax[1, -1].axis('off')\n",
    "    ax[2, -1].axis('off')\n",
    "    ax[3, -1].axis('off')\n",
    "    ax[4, -1].axis('off')\n",
    "    \n",
    "    plt.show()"
   ],
   "metadata": {
    "collapsed": false,
    "ExecuteTime": {
     "end_time": "2023-10-17T07:40:26.891147200Z",
     "start_time": "2023-10-17T07:40:26.851007Z"
    }
   },
   "id": "a9996418c1d14efb"
  },
  {
   "cell_type": "code",
   "execution_count": 7,
   "outputs": [],
   "source": [
    "def print_batch_info(epoch, batch_num, momentum, batch_err, batch_size, sparse_codes):\n",
    "    zero_elements = np.mean(sparse_codes==0)\n",
    "    print(f\"e: {epoch}, b: {batch_num}, momen: {momentum:.2f}, \"\n",
    "          f\"spar: {zero_elements:.3f}, rec err: {batch_err / batch_size:.2f}, \"\n",
    "          f\"err/spar: {(batch_err/batch_size) / zero_elements:.2f}\")"
   ],
   "metadata": {
    "collapsed": false,
    "ExecuteTime": {
     "end_time": "2023-10-17T07:40:26.891147200Z",
     "start_time": "2023-10-17T07:40:26.861001700Z"
    }
   },
   "id": "782ad7f0fd061e12"
  },
  {
   "cell_type": "code",
   "execution_count": 27,
   "outputs": [],
   "source": [
    "def compute_A_and_B(sparse_code, train_data):\n",
    "    A = sparse_code.T @ sparse_code\n",
    "    B = train_data.T @ sparse_code\n",
    "    return A, B\n",
    "\n",
    "def update_W(A, B, W):\n",
    "    n_attr, n_cols = A.shape\n",
    "    W_new = W.copy() # to not overwrite the or\n",
    "    \n",
    "    for j in range(n_cols):\n",
    "        val = W[:, j] + (1/A[j,j]) * (B[:,j] - W @ A[:, j])\n",
    "        val_normed = val / max(np.sqrt(np.sum(val**2)), 1)\n",
    "        W_new[:, j] = val_normed\n",
    "\n",
    "    return W_new"
   ],
   "metadata": {
    "collapsed": false,
    "ExecuteTime": {
     "end_time": "2023-10-17T07:52:49.970058800Z",
     "start_time": "2023-10-17T07:52:49.951449400Z"
    }
   },
   "id": "f473a324f49287fd"
  },
  {
   "cell_type": "code",
   "execution_count": 28,
   "outputs": [
    {
     "name": "stdout",
     "output_type": "stream",
     "text": [
      "W shape: (784, 784)\n"
     ]
    }
   ],
   "source": [
    "from ista_fista_cod import fista, CoD, ista\n",
    "from joblib import Parallel, delayed\n",
    "n, m = train_set.x.shape\n",
    "\n",
    "code_basis_vectors = m\n",
    "#sparse_codes = np.zeros((code_basis_vectors, n))\n",
    "W = np.random.normal(size=(m, code_basis_vectors)) # generate random ones\n",
    "#W = np.copy(train_set.x[:m,:].T) # or use first training examples\n",
    "#W = torch.load(\"W_learned_baseline.pt\").numpy() # load trained ones\n",
    "W = W / np.sqrt(np.sum(W**2, axis=0))[None,:] # normalize\n",
    "\n",
    "A_velocity = np.random.normal(size=(code_basis_vectors, code_basis_vectors) )*0.01   \n",
    "B_velocity = np.random.normal(size=(m, code_basis_vectors))*0.01  \n",
    "velocity = np.zeros_like(W)\n",
    "\n",
    "print(\"W shape:\", W.shape)"
   ],
   "metadata": {
    "collapsed": false,
    "ExecuteTime": {
     "end_time": "2023-10-17T07:52:52.056823700Z",
     "start_time": "2023-10-17T07:52:51.990151200Z"
    }
   },
   "id": "40160fe558d2eb4f"
  },
  {
   "cell_type": "code",
   "execution_count": 29,
   "outputs": [
    {
     "name": "stdout",
     "output_type": "stream",
     "text": [
      "e: 0, b: 0, momen: 0.91, spar: 0.782, rec err: 11.09, err/spar: 14.18\n",
      "e: 0, b: 1, momen: 0.92, spar: 0.785, rec err: 9.88, err/spar: 12.59\n",
      "e: 0, b: 2, momen: 0.93, spar: 0.822, rec err: 8.09, err/spar: 9.84\n",
      "e: 0, b: 3, momen: 0.94, spar: 0.869, rec err: 6.99, err/spar: 8.04\n",
      "e: 0, b: 4, momen: 0.95, spar: 0.897, rec err: 6.77, err/spar: 7.54\n",
      "e: 0, b: 5, momen: 0.95, spar: 0.911, rec err: 6.76, err/spar: 7.42\n",
      "e: 0, b: 6, momen: 0.95, spar: 0.915, rec err: 6.95, err/spar: 7.59\n",
      "e: 0, b: 7, momen: 0.95, spar: 0.924, rec err: 6.81, err/spar: 7.37\n",
      "e: 0, b: 8, momen: 0.95, spar: 0.930, rec err: 6.76, err/spar: 7.27\n",
      "e: 0, b: 9, momen: 0.95, spar: 0.934, rec err: 6.66, err/spar: 7.13\n",
      "e: 0, b: 10, momen: 0.95, spar: 0.941, rec err: 6.43, err/spar: 6.83\n",
      "e: 0, b: 11, momen: 0.95, spar: 0.940, rec err: 6.41, err/spar: 6.82\n",
      "e: 0, b: 12, momen: 0.95, spar: 0.943, rec err: 6.22, err/spar: 6.60\n",
      "e: 0, b: 13, momen: 0.95, spar: 0.943, rec err: 6.20, err/spar: 6.57\n",
      "e: 0, b: 14, momen: 0.95, spar: 0.941, rec err: 6.14, err/spar: 6.53\n",
      "e: 0, b: 15, momen: 0.95, spar: 0.947, rec err: 5.94, err/spar: 6.27\n",
      "e: 0, b: 16, momen: 0.95, spar: 0.952, rec err: 5.81, err/spar: 6.10\n",
      "e: 0, b: 17, momen: 0.95, spar: 0.953, rec err: 5.71, err/spar: 5.99\n",
      "e: 0, b: 18, momen: 0.95, spar: 0.955, rec err: 5.66, err/spar: 5.93\n",
      "e: 0, b: 19, momen: 0.95, spar: 0.955, rec err: 5.64, err/spar: 5.91\n",
      "e: 0, b: 20, momen: 0.95, spar: 0.956, rec err: 5.60, err/spar: 5.86\n",
      "e: 0, b: 21, momen: 0.95, spar: 0.956, rec err: 5.63, err/spar: 5.90\n",
      "e: 0, b: 22, momen: 0.95, spar: 0.959, rec err: 5.46, err/spar: 5.70\n",
      "e: 0, b: 23, momen: 0.95, spar: 0.959, rec err: 5.39, err/spar: 5.62\n",
      "e: 0, b: 24, momen: 0.95, spar: 0.959, rec err: 5.40, err/spar: 5.63\n",
      "e: 0, b: 25, momen: 0.95, spar: 0.962, rec err: 5.30, err/spar: 5.51\n",
      "e: 0, b: 26, momen: 0.95, spar: 0.964, rec err: 5.22, err/spar: 5.41\n",
      "e: 0, b: 27, momen: 0.95, spar: 0.963, rec err: 5.18, err/spar: 5.38\n",
      "e: 0, b: 28, momen: 0.95, spar: 0.965, rec err: 5.19, err/spar: 5.38\n",
      "e: 0, b: 29, momen: 0.95, spar: 0.962, rec err: 5.21, err/spar: 5.41\n",
      "e: 0, b: 30, momen: 0.95, spar: 0.964, rec err: 5.16, err/spar: 5.35\n",
      "e: 0, b: 31, momen: 0.95, spar: 0.967, rec err: 4.92, err/spar: 5.08\n",
      "e: 0, b: 32, momen: 0.95, spar: 0.966, rec err: 4.99, err/spar: 5.16\n",
      "e: 0, b: 33, momen: 0.95, spar: 0.965, rec err: 5.03, err/spar: 5.21\n",
      "e: 0, b: 34, momen: 0.95, spar: 0.965, rec err: 4.93, err/spar: 5.11\n",
      "e: 0, b: 35, momen: 0.95, spar: 0.966, rec err: 4.92, err/spar: 5.09\n",
      "e: 0, b: 36, momen: 0.95, spar: 0.966, rec err: 4.94, err/spar: 5.11\n",
      "e: 0, b: 37, momen: 0.95, spar: 0.965, rec err: 5.00, err/spar: 5.18\n",
      "e: 0, b: 38, momen: 0.95, spar: 0.970, rec err: 4.62, err/spar: 4.77\n",
      "e: 0, b: 39, momen: 0.95, spar: 0.966, rec err: 4.75, err/spar: 4.92\n",
      "e: 0, b: 40, momen: 0.95, spar: 0.965, rec err: 4.92, err/spar: 5.10\n",
      "e: 0, b: 41, momen: 0.95, spar: 0.965, rec err: 4.81, err/spar: 4.98\n",
      "e: 0, b: 42, momen: 0.95, spar: 0.966, rec err: 4.73, err/spar: 4.89\n",
      "e: 0, b: 43, momen: 0.95, spar: 0.963, rec err: 4.91, err/spar: 5.10\n",
      "e: 0, b: 44, momen: 0.95, spar: 0.966, rec err: 4.65, err/spar: 4.81\n",
      "e: 0, b: 45, momen: 0.95, spar: 0.964, rec err: 4.70, err/spar: 4.88\n",
      "e: 0, b: 46, momen: 0.95, spar: 0.966, rec err: 4.63, err/spar: 4.80\n",
      "e: 0, b: 47, momen: 0.95, spar: 0.965, rec err: 4.74, err/spar: 4.92\n",
      "e: 0, b: 48, momen: 0.95, spar: 0.967, rec err: 4.61, err/spar: 4.77\n",
      "e: 0, b: 49, momen: 0.95, spar: 0.966, rec err: 4.55, err/spar: 4.71\n",
      "e: 0, b: 50, momen: 0.95, spar: 0.965, rec err: 4.62, err/spar: 4.79\n",
      "e: 0, b: 51, momen: 0.95, spar: 0.967, rec err: 4.46, err/spar: 4.62\n",
      "e: 0, b: 52, momen: 0.95, spar: 0.967, rec err: 4.51, err/spar: 4.66\n",
      "e: 0, b: 53, momen: 0.95, spar: 0.967, rec err: 4.52, err/spar: 4.67\n",
      "e: 0, b: 54, momen: 0.95, spar: 0.966, rec err: 4.54, err/spar: 4.70\n",
      "e: 0, b: 55, momen: 0.95, spar: 0.966, rec err: 4.59, err/spar: 4.75\n",
      "e: 0, b: 56, momen: 0.95, spar: 0.968, rec err: 4.48, err/spar: 4.63\n",
      "e: 0, b: 57, momen: 0.95, spar: 0.967, rec err: 4.37, err/spar: 4.52\n",
      "e: 0, b: 58, momen: 0.95, spar: 0.966, rec err: 4.50, err/spar: 4.65\n",
      "e: 0, b: 59, momen: 0.95, spar: 0.966, rec err: 4.44, err/spar: 4.59\n",
      "e: 0, b: 60, momen: 0.95, spar: 0.966, rec err: 4.45, err/spar: 4.60\n",
      "e: 0, b: 61, momen: 0.95, spar: 0.966, rec err: 4.36, err/spar: 4.51\n",
      "e: 0, b: 62, momen: 0.95, spar: 0.967, rec err: 4.30, err/spar: 4.45\n",
      "e: 0, b: 63, momen: 0.95, spar: 0.966, rec err: 4.45, err/spar: 4.61\n",
      "e: 0, b: 64, momen: 0.95, spar: 0.966, rec err: 4.41, err/spar: 4.56\n",
      "e: 0, b: 65, momen: 0.95, spar: 0.966, rec err: 4.40, err/spar: 4.55\n",
      "e: 0, b: 66, momen: 0.95, spar: 0.966, rec err: 4.34, err/spar: 4.50\n",
      "e: 0, b: 67, momen: 0.95, spar: 0.967, rec err: 4.24, err/spar: 4.38\n",
      "e: 0, b: 68, momen: 0.95, spar: 0.966, rec err: 4.26, err/spar: 4.41\n",
      "e: 0, b: 69, momen: 0.95, spar: 0.967, rec err: 4.28, err/spar: 4.43\n"
     ]
    },
    {
     "ename": "KeyboardInterrupt",
     "evalue": "",
     "output_type": "error",
     "traceback": [
      "\u001B[1;31m---------------------------------------------------------------------------\u001B[0m",
      "\u001B[1;31mKeyboardInterrupt\u001B[0m                         Traceback (most recent call last)",
      "Cell \u001B[1;32mIn[29], line 21\u001B[0m\n\u001B[0;32m     19\u001B[0m sparse_codes \u001B[38;5;241m=\u001B[39m np\u001B[38;5;241m.\u001B[39mzeros((batch_size, code_basis_vectors))\n\u001B[0;32m     20\u001B[0m \u001B[38;5;28;01mfor\u001B[39;00m j \u001B[38;5;129;01min\u001B[39;00m \u001B[38;5;28mrange\u001B[39m(x_batch\u001B[38;5;241m.\u001B[39mshape[\u001B[38;5;241m0\u001B[39m]):\n\u001B[1;32m---> 21\u001B[0m     sparse_codes[j,:], _, _, final_error, _, _ \u001B[38;5;241m=\u001B[39m \u001B[43msparse_code_func\u001B[49m\u001B[43m(\u001B[49m\u001B[43mW\u001B[49m\u001B[38;5;241;43m=\u001B[39;49m\u001B[43mW\u001B[49m\u001B[43m,\u001B[49m\u001B[43m \u001B[49m\n\u001B[0;32m     22\u001B[0m \u001B[43m                                                                  \u001B[49m\u001B[43mx\u001B[49m\u001B[38;5;241;43m=\u001B[39;49m\u001B[43mx_batch\u001B[49m\u001B[43m[\u001B[49m\u001B[43mj\u001B[49m\u001B[43m,\u001B[49m\u001B[43m:\u001B[49m\u001B[43m]\u001B[49m\u001B[43m \u001B[49m\u001B[43m,\u001B[49m\u001B[43m \u001B[49m\n\u001B[0;32m     23\u001B[0m \u001B[43m                                                                  \u001B[49m\u001B[43malpha\u001B[49m\u001B[38;5;241;43m=\u001B[39;49m\u001B[43malpha\u001B[49m\u001B[43m,\u001B[49m\u001B[43m \u001B[49m\n\u001B[0;32m     24\u001B[0m \u001B[43m                                                                  \u001B[49m\u001B[43mnsteps\u001B[49m\u001B[38;5;241;43m=\u001B[39;49m\u001B[43mnsteps\u001B[49m\u001B[43m,\u001B[49m\u001B[43m \u001B[49m\n\u001B[0;32m     25\u001B[0m \u001B[43m                                                                  \u001B[49m\u001B[43mverbose\u001B[49m\u001B[38;5;241;43m=\u001B[39;49m\u001B[38;5;28;43;01mFalse\u001B[39;49;00m\u001B[43m)\u001B[49m             \n\u001B[0;32m     26\u001B[0m     batch_err \u001B[38;5;241m+\u001B[39m\u001B[38;5;241m=\u001B[39m final_error\n\u001B[0;32m     28\u001B[0m \u001B[38;5;66;03m# works but isnt faster\u001B[39;00m\n\u001B[0;32m     29\u001B[0m \u001B[38;5;66;03m# results = Parallel(n_jobs=6)(delayed(sparse_code_func)\u001B[39;00m\n\u001B[0;32m     30\u001B[0m \u001B[38;5;66;03m#                              (W.copy(), x_batch[j,:].copy(), alpha, nsteps, False) for j in range(batch_size))\u001B[39;00m\n\u001B[1;32m   (...)\u001B[0m\n\u001B[0;32m     33\u001B[0m \u001B[38;5;66;03m# x_batch = np.vstack([results[j][5] for j in range(batch_size)])\u001B[39;00m\n\u001B[0;32m     34\u001B[0m \u001B[38;5;66;03m# batch_err = sum([results[j][3] for j in range(batch_size)])\u001B[39;00m\n",
      "File \u001B[1;32m~\\Desktop\\11\\Model Based Deep Learning\\ISTA\\ista_fista_cod.py:109\u001B[0m, in \u001B[0;36mCoD\u001B[1;34m(W, x, alpha, nsteps, verbose)\u001B[0m\n\u001B[0;32m    106\u001B[0m B \u001B[38;5;241m=\u001B[39m B \u001B[38;5;241m+\u001B[39m S[:,k] \u001B[38;5;241m*\u001B[39m (z_bar[k] \u001B[38;5;241m-\u001B[39m z[k])\n\u001B[0;32m    107\u001B[0m z[k] \u001B[38;5;241m=\u001B[39m z_bar[k]\n\u001B[1;32m--> 109\u001B[0m \u001B[38;5;28;01mif\u001B[39;00m verbose:\n\u001B[0;32m    110\u001B[0m     time1 \u001B[38;5;241m=\u001B[39m time\u001B[38;5;241m.\u001B[39mperf_counter()\n\u001B[0;32m    111\u001B[0m     diffs\u001B[38;5;241m.\u001B[39mappend(np\u001B[38;5;241m.\u001B[39mlinalg\u001B[38;5;241m.\u001B[39mnorm(z_bar \u001B[38;5;241m-\u001B[39m z))\n",
      "\u001B[1;31mKeyboardInterrupt\u001B[0m: "
     ]
    }
   ],
   "source": [
    "import tqdm\n",
    "alpha = 0.5\n",
    "nsteps = 300\n",
    "epochs = 100\n",
    "batch_size = 100\n",
    "train_set.set_batch_size(batch_size)\n",
    "momentum = 0.9\n",
    "momentum_max = 0.95\n",
    "momentum_batch_inc = 0.01\n",
    "actually_plot = False\n",
    "plot_every_n = max(int(200/batch_size), 1)\n",
    "lr = 0.01\n",
    "sparse_code_func = CoD\n",
    "method = 2\n",
    "for epoch in range(epochs):\n",
    "    for batch_num, (x_batch, y_batch) in enumerate(train_set):\n",
    "        momentum = min(momentum+momentum_batch_inc, momentum_max)\n",
    "        batch_err = 0.\n",
    "        sparse_codes = np.zeros((batch_size, code_basis_vectors))\n",
    "        for j in range(x_batch.shape[0]):\n",
    "            sparse_codes[j,:], _, _, final_error, _, _ = sparse_code_func(W=W, \n",
    "                                                                          x=x_batch[j,:] , \n",
    "                                                                          alpha=alpha, \n",
    "                                                                          nsteps=nsteps, \n",
    "                                                                          verbose=False)             \n",
    "            batch_err += final_error\n",
    "        \n",
    "        # works but isnt faster\n",
    "        # results = Parallel(n_jobs=6)(delayed(sparse_code_func)\n",
    "        #                              (W.copy(), x_batch[j,:].copy(), alpha, nsteps, False) for j in range(batch_size))\n",
    "        # \n",
    "        # sparse_codes = np.vstack([results[j][0] for j in range(batch_size)])\n",
    "        # x_batch = np.vstack([results[j][5] for j in range(batch_size)])\n",
    "        # batch_err = sum([results[j][3] for j in range(batch_size)])\n",
    "            \n",
    "        print_batch_info(epoch, batch_num, momentum, batch_err, batch_size, sparse_codes)\n",
    "        if batch_num % plot_every_n == 0 and actually_plot:\n",
    "            _, diff, err, _, _, _ = sparse_code_func(W=W, \n",
    "                                                     x=x_batch[0,:] , \n",
    "                                                     alpha=alpha, \n",
    "                                                     nsteps=nsteps, \n",
    "                                                     verbose=True)\n",
    "            plot_(diff, err)\n",
    "            plot_W_and_reconst(W, sparse_codes, x_batch, num_plots = 5, seed=None)\n",
    "\n",
    "        if method==1: #coord_descent:\n",
    "            A, B = compute_A_and_B(sparse_codes, x_batch)\n",
    "            A_velocity = momentum * A_velocity + A\n",
    "            B_velocity = momentum * B_velocity + B\n",
    "            W = update_W(A_velocity, B_velocity, W)\n",
    "            \n",
    "        if method==2: #manual gradient descent \n",
    "            grad = -(x_batch - (W@sparse_codes.T).T).T @ sparse_codes \n",
    "            #dims:              (batch, att)    @   (att, spar) @ (batch, spar) \n",
    "            # this line above does the loop below\n",
    "            # for k in range(batch_size):\n",
    "            #     grad += np.outer((x_batch[k,:] - W@sparse_codes[k,:]), sparse_codes[k,:])\n",
    "            grad /= batch_size # calc avg\n",
    "            velocity = momentum*velocity + grad\n",
    "            W -= lr * velocity # perform update\n",
    "            W /= np.sqrt(np.sum(W**2, axis=0))[None,:] # renormalize\n"
   ],
   "metadata": {
    "collapsed": false,
    "ExecuteTime": {
     "end_time": "2023-10-17T07:54:33.450153400Z",
     "start_time": "2023-10-17T07:52:56.050526500Z"
    }
   },
   "id": "5dcc7477b3a6a0bc"
  },
  {
   "cell_type": "code",
   "execution_count": null,
   "outputs": [],
   "source": [
    "all_data = train_set.x\n",
    "sparse_codes_to_save = np.zeros_like(all_data)\n",
    "for j in tqdm.tqdm(range(all_data.shape[0])):\n",
    "    sparse_codes_to_save[j,:], _, _, final_error, time_, _ = sparse_code_func(W=W, \n",
    "                                                                              x=all_data[j,:] , \n",
    "                                                                              alpha=alpha, \n",
    "                                                                              nsteps=nsteps, \n",
    "                                                                              verbose=False)\n",
    "    \n",
    "torch.save(torch.from_numpy(sparse_codes_to_save), \"W_generated_sparse_code_mnist.pt\")\n",
    "torch.save(torch.from_numpy(W), \"W_learned.pt\")"
   ],
   "metadata": {
    "collapsed": false,
    "ExecuteTime": {
     "start_time": "2023-10-17T07:40:28.541226Z"
    }
   },
   "id": "4e18a2675e6f5829"
  }
 ],
 "metadata": {
  "kernelspec": {
   "display_name": "Python 3",
   "language": "python",
   "name": "python3"
  },
  "language_info": {
   "codemirror_mode": {
    "name": "ipython",
    "version": 2
   },
   "file_extension": ".py",
   "mimetype": "text/x-python",
   "name": "python",
   "nbconvert_exporter": "python",
   "pygments_lexer": "ipython2",
   "version": "2.7.6"
  }
 },
 "nbformat": 4,
 "nbformat_minor": 5
}
